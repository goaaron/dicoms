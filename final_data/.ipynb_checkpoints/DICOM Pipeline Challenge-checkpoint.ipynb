{
 "cells": [
  {
   "cell_type": "code",
   "execution_count": null,
   "metadata": {},
   "outputs": [],
   "source": [
    "\"\"\"Parsing code for DICOMS and contour files\"\"\"\n",
    "\n",
    "import dicom\n",
    "from dicom.errors import InvalidDicomError\n",
    "\n",
    "import numpy as np\n",
    "from PIL import Image, ImageDraw\n",
    "\n",
    "\n",
    "def parse_contour_file(filename):\n",
    "    \"\"\"Parse the given contour filename\n",
    "\n",
    "    :param filename: filepath to the contourfile to parse\n",
    "    :return: list of tuples holding x, y coordinates of the contour\n",
    "    \"\"\"\n",
    "\n",
    "    coords_lst = []\n",
    "\n",
    "    with open(filename, 'r') as infile:\n",
    "        for line in infile:\n",
    "            coords = line.strip().split()\n",
    "\n",
    "            x_coord = float(coords[0])\n",
    "            y_coord = float(coords[1])\n",
    "            coords_lst.append((x_coord, y_coord))\n",
    "\n",
    "    return coords_lst\n",
    "\n",
    "\n",
    "def parse_dicom_file(filename):\n",
    "    \"\"\"Parse the given DICOM filename\n",
    "\n",
    "    :param filename: filepath to the DICOM file to parse\n",
    "    :return: dictionary with DICOM image data\n",
    "    \"\"\"\n",
    "\n",
    "    try:\n",
    "        dcm = dicom.read_file(filename)\n",
    "        dcm_image = dcm.pixel_array\n",
    "\n",
    "        try:\n",
    "            intercept = dcm.RescaleIntercept\n",
    "        except AttributeError:\n",
    "            intercept = 0.0\n",
    "        try:\n",
    "            slope = dcm.RescaleSlope\n",
    "        except AttributeError:\n",
    "            slope = 0.0\n",
    "\n",
    "        if intercept != 0.0 and slope != 0.0:\n",
    "            dcm_image = dcm_image*slope + intercept\n",
    "        dcm_dict = {'pixel_data' : dcm_image}\n",
    "        return dcm_dict\n",
    "    except InvalidDicomError:\n",
    "        return None\n",
    "\n",
    "\n",
    "def poly_to_mask(polygon, width, height):\n",
    "    \"\"\"Convert polygon to mask\n",
    "\n",
    "    :param polygon: list of pairs of x, y coords [(x1, y1), (x2, y2), ...]\n",
    "     in units of pixels\n",
    "    :param width: scalar image width\n",
    "    :param height: ar image height\n",
    "    :return: Boolean mask of shape (height, width)\n",
    "    \"\"\"\n",
    "\n",
    "    # http://stackoverflow.com/a/3732128/1410871\n",
    "    img = Image.new(mode='L', size=(width, height), color=0)\n",
    "    ImageDraw.Draw(img).polygon(xy=polygon, outline=0, fill=1)\n",
    "    mask = np.array(img).astype(bool)\n",
    "    return mask\n"
   ]
  },
  {
   "cell_type": "code",
   "execution_count": 1,
   "metadata": {},
   "outputs": [],
   "source": [
    "import subprocess"
   ]
  },
  {
   "cell_type": "code",
   "execution_count": 7,
   "metadata": {},
   "outputs": [],
   "source": [
    "import sys"
   ]
  },
  {
   "cell_type": "code",
   "execution_count": 9,
   "metadata": {},
   "outputs": [],
   "source": [
    "contour = \"120.5 137.5 \\n 120.5 137.0 \\n 121.0 136.5\""
   ]
  },
  {
   "cell_type": "code",
   "execution_count": 10,
   "metadata": {},
   "outputs": [],
   "source": [
    "with open('tmp.txt', 'w') as f:\n",
    "    f.write(contour)"
   ]
  },
  {
   "cell_type": "code",
   "execution_count": 11,
   "metadata": {},
   "outputs": [],
   "source": [
    "f.close()"
   ]
  },
  {
   "cell_type": "code",
   "execution_count": null,
   "metadata": {},
   "outputs": [],
   "source": []
  }
 ],
 "metadata": {
  "kernelspec": {
   "display_name": "Python 2",
   "language": "python",
   "name": "python2"
  },
  "language_info": {
   "codemirror_mode": {
    "name": "ipython",
    "version": 2
   },
   "file_extension": ".py",
   "mimetype": "text/x-python",
   "name": "python",
   "nbconvert_exporter": "python",
   "pygments_lexer": "ipython2",
   "version": "2.7.10"
  }
 },
 "nbformat": 4,
 "nbformat_minor": 2
}
