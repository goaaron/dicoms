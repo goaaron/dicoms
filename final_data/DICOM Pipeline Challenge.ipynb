{
 "cells": [
  {
   "cell_type": "code",
   "execution_count": null,
   "metadata": {},
   "outputs": [],
   "source": [
    "\"\"\"Parsing code for DICOMS and contour files\"\"\"\n",
    "\n",
    "import dicom\n",
    "from dicom.errors import InvalidDicomError\n",
    "\n",
    "import numpy as np\n",
    "from PIL import Image, ImageDraw\n",
    "\n",
    "\n",
    "def parse_contour_file(filename):\n",
    "    \"\"\"Parse the given contour filename\n",
    "\n",
    "    :param filename: filepath to the contourfile to parse\n",
    "    :return: list of tuples holding x, y coordinates of the contour\n",
    "    \"\"\"\n",
    "\n",
    "    coords_lst = []\n",
    "\n",
    "    with open(filename, 'r') as infile:\n",
    "        for line in infile:\n",
    "            coords = line.strip().split()\n",
    "\n",
    "            x_coord = float(coords[0])\n",
    "            y_coord = float(coords[1])\n",
    "            coords_lst.append((x_coord, y_coord))\n",
    "\n",
    "    return coords_lst\n",
    "\n",
    "\n",
    "def parse_dicom_file(filename):\n",
    "    \"\"\"Parse the given DICOM filename\n",
    "\n",
    "    :param filename: filepath to the DICOM file to parse\n",
    "    :return: dictionary with DICOM image data\n",
    "    \"\"\"\n",
    "\n",
    "    try:\n",
    "        dcm = dicom.read_file(filename)\n",
    "        dcm_image = dcm.pixel_array\n",
    "\n",
    "        try:\n",
    "            intercept = dcm.RescaleIntercept\n",
    "        except AttributeError:\n",
    "            intercept = 0.0\n",
    "        try:\n",
    "            slope = dcm.RescaleSlope\n",
    "        except AttributeError:\n",
    "            slope = 0.0\n",
    "\n",
    "        if intercept != 0.0 and slope != 0.0:\n",
    "            dcm_image = dcm_image*slope + intercept\n",
    "        dcm_dict = {'pixel_data' : dcm_image}\n",
    "        return dcm_dict\n",
    "    except InvalidDicomError:\n",
    "        return None\n",
    "\n",
    "\n",
    "def poly_to_mask(polygon, width, height):\n",
    "    \"\"\"Convert polygon to mask\n",
    "\n",
    "    :param polygon: list of pairs of x, y coords [(x1, y1), (x2, y2), ...]\n",
    "     in units of pixels\n",
    "    :param width: scalar image width\n",
    "    :param height: ar image height\n",
    "    :return: Boolean mask of shape (height, width)\n",
    "    \"\"\"\n",
    "\n",
    "    # http://stackoverflow.com/a/3732128/1410871\n",
    "    img = Image.new(mode='L', size=(width, height), color=0)\n",
    "    ImageDraw.Draw(img).polygon(xy=polygon, outline=0, fill=1)\n",
    "    mask = np.array(img).astype(bool)\n",
    "    return mask\n"
   ]
  },
  {
   "cell_type": "code",
   "execution_count": 1,
   "metadata": {},
   "outputs": [],
   "source": [
    "import subprocess"
   ]
  },
  {
   "cell_type": "code",
   "execution_count": 7,
   "metadata": {},
   "outputs": [],
   "source": [
    "import sys"
   ]
  },
  {
   "cell_type": "code",
   "execution_count": 19,
   "metadata": {},
   "outputs": [],
   "source": [
    "contour = \"120.5 137.5 \\n120.5 137.0 \\n121.0 136.5\""
   ]
  },
  {
   "cell_type": "code",
   "execution_count": 20,
   "metadata": {},
   "outputs": [],
   "source": [
    "with open('tmp.txt', 'w') as f:\n",
    "    f.write(contour)"
   ]
  },
  {
   "cell_type": "code",
   "execution_count": 21,
   "metadata": {},
   "outputs": [],
   "source": [
    "f.close()"
   ]
  },
  {
   "cell_type": "code",
   "execution_count": 28,
   "metadata": {},
   "outputs": [],
   "source": [
    "from PIL import Image, ImageDraw\n",
    "import numpy as np"
   ]
  },
  {
   "cell_type": "code",
   "execution_count": 29,
   "metadata": {},
   "outputs": [],
   "source": [
    "def poly_to_mask(polygon, width, height):\n",
    "    \"\"\"Convert polygon to mask\n",
    "\n",
    "    :param polygon: list of pairs of x, y coords [(x1, y1), (x2, y2), ...]\n",
    "     in units of pixels\n",
    "    :param width: scalar image width\n",
    "    :param height: scalar image height\n",
    "    :return: Boolean mask of shape (height, width)\n",
    "    \"\"\"\n",
    "\n",
    "    # http://stackoverflow.com/a/3732128/1410871\n",
    "    img = Image.new(mode='L', size=(width, height), color=0)\n",
    "    ImageDraw.Draw(img).polygon(xy=polygon, outline=0, fill=1)\n",
    "    mask = np.array(img).astype(bool)\n",
    "    return mask"
   ]
  },
  {
   "cell_type": "code",
   "execution_count": 30,
   "metadata": {},
   "outputs": [],
   "source": [
    "poly = poly_to_mask([(9, 9), (9, 20), (20, 20), (20, 9)], 30, 30)\n"
   ]
  },
  {
   "cell_type": "code",
   "execution_count": 34,
   "metadata": {},
   "outputs": [
    {
     "data": {
      "text/plain": [
       "(array([10, 10, 10, 10, 10, 10, 10, 10, 10, 10, 11, 11, 11, 11, 11, 11, 11,\n",
       "        11, 11, 11, 12, 12, 12, 12, 12, 12, 12, 12, 12, 12, 13, 13, 13, 13,\n",
       "        13, 13, 13, 13, 13, 13, 14, 14, 14, 14, 14, 14, 14, 14, 14, 14, 15,\n",
       "        15, 15, 15, 15, 15, 15, 15, 15, 15, 16, 16, 16, 16, 16, 16, 16, 16,\n",
       "        16, 16, 17, 17, 17, 17, 17, 17, 17, 17, 17, 17, 18, 18, 18, 18, 18,\n",
       "        18, 18, 18, 18, 18, 19, 19, 19, 19, 19, 19, 19, 19, 19, 19]),\n",
       " array([10, 11, 12, 13, 14, 15, 16, 17, 18, 19, 10, 11, 12, 13, 14, 15, 16,\n",
       "        17, 18, 19, 10, 11, 12, 13, 14, 15, 16, 17, 18, 19, 10, 11, 12, 13,\n",
       "        14, 15, 16, 17, 18, 19, 10, 11, 12, 13, 14, 15, 16, 17, 18, 19, 10,\n",
       "        11, 12, 13, 14, 15, 16, 17, 18, 19, 10, 11, 12, 13, 14, 15, 16, 17,\n",
       "        18, 19, 10, 11, 12, 13, 14, 15, 16, 17, 18, 19, 10, 11, 12, 13, 14,\n",
       "        15, 16, 17, 18, 19, 10, 11, 12, 13, 14, 15, 16, 17, 18, 19]))"
      ]
     },
     "execution_count": 34,
     "metadata": {},
     "output_type": "execute_result"
    }
   ],
   "source": [
    "np.where(poly == True)"
   ]
  },
  {
   "cell_type": "code",
   "execution_count": 32,
   "metadata": {},
   "outputs": [
    {
     "data": {
      "text/plain": [
       "array([False, False, False, False, False, False, False, False, False,\n",
       "       False, False, False, False, False, False, False, False, False,\n",
       "       False, False, False, False, False, False, False, False, False,\n",
       "       False, False, False], dtype=bool)"
      ]
     },
     "execution_count": 32,
     "metadata": {},
     "output_type": "execute_result"
    }
   ],
   "source": [
    "poly[9]"
   ]
  },
  {
   "cell_type": "code",
   "execution_count": 36,
   "metadata": {},
   "outputs": [
    {
     "data": {
      "text/plain": [
       "True"
      ]
     },
     "execution_count": 36,
     "metadata": {},
     "output_type": "execute_result"
    }
   ],
   "source": [
    "poly[10][11]"
   ]
  },
  {
   "cell_type": "code",
   "execution_count": 39,
   "metadata": {},
   "outputs": [
    {
     "data": {
      "text/plain": [
       "array([[ True,  True,  True,  True],\n",
       "       [ True,  True,  True,  True],\n",
       "       [ True,  True,  True,  True],\n",
       "       [ True,  True,  True,  True]], dtype=bool)"
      ]
     },
     "execution_count": 39,
     "metadata": {},
     "output_type": "execute_result"
    }
   ],
   "source": [
    "np.ones((4,4), dtype=bool)"
   ]
  },
  {
   "cell_type": "code",
   "execution_count": 40,
   "metadata": {},
   "outputs": [],
   "source": [
    "coords = [(0,0), (5,5), (0,5), (5,0)]"
   ]
  },
  {
   "cell_type": "code",
   "execution_count": 41,
   "metadata": {},
   "outputs": [],
   "source": [
    "polygon = poly_to_mask(coords,10,10)"
   ]
  },
  {
   "cell_type": "code",
   "execution_count": 43,
   "metadata": {},
   "outputs": [
    {
     "name": "stderr",
     "output_type": "stream",
     "text": [
      "/Users/aaron/Desktop/rl_practice/tf_venv/lib/python2.7/site-packages/ipykernel_launcher.py:1: DeprecationWarning: elementwise == comparison failed; this will raise an error in the future.\n",
      "  \"\"\"Entry point for launching an IPython kernel.\n"
     ]
    },
    {
     "data": {
      "text/plain": [
       "False"
      ]
     },
     "execution_count": 43,
     "metadata": {},
     "output_type": "execute_result"
    }
   ],
   "source": [
    "polygon[1:4, 1:4] == np.ones((10,10), dtype=bool)"
   ]
  },
  {
   "cell_type": "code",
   "execution_count": 48,
   "metadata": {},
   "outputs": [
    {
     "data": {
      "text/plain": [
       "array([[False, False, False, False, False, False, False, False, False,\n",
       "        False],\n",
       "       [False, False,  True,  True, False, False, False, False, False,\n",
       "        False],\n",
       "       [False, False, False, False, False, False, False, False, False,\n",
       "        False],\n",
       "       [False, False, False, False, False, False, False, False, False,\n",
       "        False],\n",
       "       [False, False,  True,  True, False, False, False, False, False,\n",
       "        False],\n",
       "       [False, False, False, False, False, False, False, False, False,\n",
       "        False],\n",
       "       [False, False, False, False, False, False, False, False, False,\n",
       "        False],\n",
       "       [False, False, False, False, False, False, False, False, False,\n",
       "        False],\n",
       "       [False, False, False, False, False, False, False, False, False,\n",
       "        False],\n",
       "       [False, False, False, False, False, False, False, False, False,\n",
       "        False]], dtype=bool)"
      ]
     },
     "execution_count": 48,
     "metadata": {},
     "output_type": "execute_result"
    }
   ],
   "source": [
    "polygon"
   ]
  },
  {
   "cell_type": "code",
   "execution_count": 49,
   "metadata": {},
   "outputs": [],
   "source": [
    "np_mask = np.zeros((10,10), dtype=bool)\n",
    "np_mask[1:5,1:5] = True"
   ]
  },
  {
   "cell_type": "code",
   "execution_count": 51,
   "metadata": {},
   "outputs": [
    {
     "data": {
      "text/plain": [
       "(10, 10)"
      ]
     },
     "execution_count": 51,
     "metadata": {},
     "output_type": "execute_result"
    }
   ],
   "source": [
    "np_mask.shape"
   ]
  },
  {
   "cell_type": "code",
   "execution_count": 54,
   "metadata": {},
   "outputs": [
    {
     "data": {
      "text/plain": [
       "array([[False, False, False, False, False, False, False, False, False,\n",
       "        False],\n",
       "       [False, False,  True,  True, False, False, False, False, False,\n",
       "        False],\n",
       "       [False, False, False, False, False, False, False, False, False,\n",
       "        False],\n",
       "       [False, False, False, False, False, False, False, False, False,\n",
       "        False],\n",
       "       [False, False,  True,  True, False, False, False, False, False,\n",
       "        False],\n",
       "       [False, False, False, False, False, False, False, False, False,\n",
       "        False],\n",
       "       [False, False, False, False, False, False, False, False, False,\n",
       "        False],\n",
       "       [False, False, False, False, False, False, False, False, False,\n",
       "        False],\n",
       "       [False, False, False, False, False, False, False, False, False,\n",
       "        False],\n",
       "       [False, False, False, False, False, False, False, False, False,\n",
       "        False]], dtype=bool)"
      ]
     },
     "execution_count": 54,
     "metadata": {},
     "output_type": "execute_result"
    }
   ],
   "source": [
    "polygon"
   ]
  },
  {
   "cell_type": "code",
   "execution_count": 55,
   "metadata": {},
   "outputs": [],
   "source": [
    "import multiprocessing as mp"
   ]
  },
  {
   "cell_type": "code",
   "execution_count": 56,
   "metadata": {},
   "outputs": [],
   "source": [
    "exec_pool = mp.Pool(10)"
   ]
  },
  {
   "cell_type": "code",
   "execution_count": 80,
   "metadata": {},
   "outputs": [
    {
     "name": "stdout",
     "output_type": "stream",
     "text": [
      "Help on method apply in module multiprocessing.pool:\n",
      "\n",
      "apply(self, func, args=(), kwds={}) method of multiprocessing.pool.Pool instance\n",
      "    Equivalent of `apply()` builtin\n",
      "\n"
     ]
    }
   ],
   "source": [
    "help(exec_pool.)"
   ]
  },
  {
   "cell_type": "code",
   "execution_count": 57,
   "metadata": {},
   "outputs": [],
   "source": [
    "x = [1,2,3]\n",
    "y = [4,5]"
   ]
  },
  {
   "cell_type": "code",
   "execution_count": 69,
   "metadata": {},
   "outputs": [],
   "source": [
    "x = np.array(x)"
   ]
  },
  {
   "cell_type": "code",
   "execution_count": 74,
   "metadata": {},
   "outputs": [],
   "source": [
    "z = (set(x.tolist()))"
   ]
  },
  {
   "cell_type": "code",
   "execution_count": 75,
   "metadata": {},
   "outputs": [],
   "source": [
    "import math\n",
    "math.c"
   ]
  },
  {
   "cell_type": "code",
   "execution_count": 68,
   "metadata": {},
   "outputs": [
    {
     "data": {
      "text/plain": [
       "<function tolist>"
      ]
     },
     "execution_count": 68,
     "metadata": {},
     "output_type": "execute_result"
    }
   ],
   "source": [
    "x.tolist"
   ]
  },
  {
   "cell_type": "code",
   "execution_count": 63,
   "metadata": {},
   "outputs": [
    {
     "data": {
      "text/plain": [
       "True"
      ]
     },
     "execution_count": 63,
     "metadata": {},
     "output_type": "execute_result"
    }
   ],
   "source": [
    "x = set(x)\n",
    "x.intersection(y) == set()a"
   ]
  },
  {
   "cell_type": "markdown",
   "metadata": {},
   "source": [
    "# Part 1\n",
    "## 1. How did you verify that you are parsing the contours correctly?\n",
    "I wrote a test case for rendering the mask for a mock polygon. I actually found that the provided code is sensitive to ordering of coordinate pairs--which is probably an undesirable feature. Then I made sure that the enumeration of the number of files actually matched the return value of my bash command. \n",
    "\n",
    "## 2. What changes did you make to the code, if any, in order to integrate it into our production code base?\n",
    "I made it so that the parse_dicom_file function inserted image dimensions into the return dictionary that could be used for the mask generation function\n",
    "\n",
    "## 3. If the pipeline was going to be run on millions of images, and speed was paramount, how would you parallelize it to run as fast as possible?\n",
    "\n",
    "   I would  partition files to different executors based on the directory session id using the multiprocessing module. Then these executors can do the work of finding their partition's mapping of DICOM --> binary mask.\n",
    "In the end, I would aggregate their results into a complete candidate set of paired inputs into the training pipeline. This is essentially like a mapreduce. You can scale to multiple machines, without changing the code much\n",
    "\n",
    "\n",
    "## 4. If this pipeline were parallelized, what kinds of error checking and/or safeguards, if any, would you add into the pipeline?\n",
    "A few things:\n",
    "        1. I would want to make sure that files directories are strictly partitioned to different task threads that will not try to process the same file at once,\n",
    "        2. else we could get redundant data in the return tuple. (I don't think concurrent reads would actually be problematic)\n",
    "        3. I would have to make sure that within an epoch of training that no data indices would be reused across worker threads\n"
   ]
  },
  {
   "cell_type": "markdown",
   "metadata": {},
   "source": [
    "# Part 2"
   ]
  },
  {
   "cell_type": "code",
   "execution_count": null,
   "metadata": {},
   "outputs": [],
   "source": []
  }
 ],
 "metadata": {
  "kernelspec": {
   "display_name": "Python 2",
   "language": "python",
   "name": "python2"
  },
  "language_info": {
   "codemirror_mode": {
    "name": "ipython",
    "version": 2
   },
   "file_extension": ".py",
   "mimetype": "text/x-python",
   "name": "python",
   "nbconvert_exporter": "python",
   "pygments_lexer": "ipython2",
   "version": "2.7.10"
  }
 },
 "nbformat": 4,
 "nbformat_minor": 2
}
